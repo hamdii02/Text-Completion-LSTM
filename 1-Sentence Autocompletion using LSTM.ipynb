{
 "cells": [
  {
   "cell_type": "markdown",
   "metadata": {},
   "source": [
    "# LSTM Implementation\n",
    "\n"
   ]
  },
  {
   "cell_type": "markdown",
   "metadata": {},
   "source": [
    "    Response to the question : Suppose your model was deployed in production, and you have developed a new\n",
    "    model. How would you test whether your new model is better? What metrics would you track.\n",
    "\n",
    "Response :\n",
    "\n",
    "To evaluate the effectiveness of the new message auto-completion model already in production, I will focus on three key evaluation axes:\n",
    "\n",
    "1. Performance Metrics\n",
    "\n",
    "I will measure the performance of both the old and new models using classical machine learning metrics, such as:\n",
    "\n",
    "    -F1 Score: This will help assess the balance between precision and recall, giving insight into overall model effectiveness.\n",
    "\n",
    "    -Precision and Recall: These metrics will indicate how many relevant suggestions were made and how many relevant suggestions were missed, respectively.\n",
    "\n",
    "    -Accuracy: This will provide a general sense of how often the model’s predictions are correct.\n",
    "\n",
    "I will conduct these evaluations using both new and old datasets to see how the new model performs in various contexts and against historical benchmarks.\n",
    "\n",
    "2. Client Engagement\n",
    "\n",
    "Understanding user engagement is really important for determining the model's impact on customer behavior. Henc,e I will monitor:\n",
    "\n",
    "    -Selection Rate: Track how often clients are choosing the suggestions provided by the model. If the selection rate decreases significantly over time (e.g., for several months), it will signal the need for improvements.\n",
    "\n",
    "    -A/B Testing: I will randomly assign users to either the old or new model to compare user interactions and see which model leads to better engagement or conversion rates.\n",
    "    Feedback Surveys: I will collect direct feedback from users regarding their satisfaction with the suggestions provided by each model. This qualitative data can provide context for the quantitative metrics.\n",
    "\n",
    "    -Session Duration: Analyzing how long users engage with the model during their sessions will help assess overall user experience. Longer session durations might indicate higher satisfaction with the suggestions.\n",
    "\n",
    "3. Data Drift\n",
    "\n",
    "Data drift can significantly affect model performance. I will monitor:\n",
    "\n",
    "    - Input Data Distribution: I will regularly analyze the incoming data to check for shifts in distribution compared to the data used to train the old model. Significant changes may indicate that the new model needs retraining or adjustment.\n",
    "\n",
    "    - Label Drift: If applicable, I will also keep track of changes in the underlying patterns of the data, such as the outcomes users expect. If the desired outcomes shift, it could impact the effectiveness of both models.\n",
    "\n",
    "By systematically evaluating these three axes—performance metrics, client engagement, and data drift—I aim to provide a comprehensive understanding of how the new model performs compared to the old one and make informed decisions about any necessary adjustments."
   ]
  },
  {
   "cell_type": "markdown",
   "metadata": {},
   "source": [
    "# **Text Preprocessing**"
   ]
  },
  {
   "cell_type": "code",
   "execution_count": 63,
   "metadata": {},
   "outputs": [],
   "source": [
    "import os\n",
    "import pandas as pd\n",
    "import numpy as np\n",
    "import tensorflow as tf\n",
    "import pickle\n",
    "from sklearn.model_selection import train_test_split\n",
    "from tensorflow.keras.preprocessing.sequence import pad_sequences\n",
    "from tensorflow.keras.layers import Embedding, LSTM, Dense, Bidirectional\n",
    "from tensorflow.keras.preprocessing.text import Tokenizer\n",
    "from tensorflow.keras.models import Sequential\n",
    "from tensorflow.keras.optimizers import Adam\n",
    "import nltk\n",
    "import re\n",
    "import sqlite3\n"
   ]
  },
  {
   "cell_type": "code",
   "execution_count": 64,
   "metadata": {},
   "outputs": [],
   "source": [
    "\n",
    "cnx = sqlite3.connect('reddit.db')\n",
    "\n",
    "df = pd.read_sql_query(\"SELECT * FROM comment\", cnx)"
   ]
  },
  {
   "cell_type": "code",
   "execution_count": 65,
   "metadata": {},
   "outputs": [
    {
     "data": {
      "text/plain": [
       "'my comment will be buried but what he heck \\n i was'"
      ]
     },
     "execution_count": 65,
     "metadata": {},
     "output_type": "execute_result"
    }
   ],
   "source": [
    "data = df[\"body\"].str.cat(sep=' ')\n",
    "data[:50] # let's check the first 50 charachters"
   ]
  },
  {
   "cell_type": "markdown",
   "metadata": {},
   "source": [
    "# Clean Data\n",
    "\n",
    "We start by loading a list of bad words from a file (\"found online\"), which helps us filter out inappropriate content. Our preprocessing steps include removing emojis and special characters to standardize the text, ensuring it is free from unnecessary noise. We eliminate sentences containing bad words to maintain the appropriateness of the data, and we convert the remaining text to lowercase for consistency."
   ]
  },
  {
   "cell_type": "markdown",
   "metadata": {},
   "source": [
    "Add badwords elimination"
   ]
  },
  {
   "cell_type": "code",
   "execution_count": 69,
   "metadata": {},
   "outputs": [],
   "source": [
    "import pandas as pd\n",
    "\n",
    "def load_bad_words(file_path):\n",
    "    \"\"\"\n",
    "    Load bad words from a text file into a list.\n",
    "    \n",
    "    Args:\n",
    "        file_path (str): Path to the text file containing bad words.\n",
    "    \n",
    "    Returns:\n",
    "        list: A list of bad words.\n",
    "    \"\"\"\n",
    "    with open(file_path, 'r', encoding='utf-8') as file:\n",
    "\n",
    "        bad_words = [line.strip() for line in file if line.strip()]\n",
    "    return bad_words\n",
    "\n",
    "def remove_emojis_and_special_characters(text):\n",
    "    \"\"\"\n",
    "    Remove emojis and special characters from the text.\n",
    "    \n",
    "    Args:\n",
    "        text (str): The input text from which to remove emojis and special characters.\n",
    "    \n",
    "    Returns:\n",
    "        str: The cleaned text.\n",
    "    \"\"\"\n",
    "\n",
    "    import re\n",
    "    return re.sub(r'[^\\w\\s]', '', text) \n",
    "\n",
    "def remove_sentence_bad_words(texts, bad_words):\n",
    "    \"\"\"\n",
    "    Remove strings from the input list that contain bad words.\n",
    "    \n",
    "    Args:\n",
    "        texts (list): A list of strings to check for bad words.\n",
    "        bad_words (list): A list of bad words to filter out.\n",
    "    \n",
    "    Returns:\n",
    "        tuple: A tuple containing the cleaned list and the count of eliminated rows.\n",
    "    \"\"\"\n",
    "\n",
    "    pattern = r'\\b(?:' + '|'.join(bad_words) + r')\\b'\n",
    "    \n",
    "    # Filter out strings containing any bad words\n",
    "    filtered_texts = [text for text in texts if not pd.Series(text).str.contains(pattern, case=False, na=False).any()]\n",
    "    \n",
    "    eliminated_count = len(texts) - len(filtered_texts)\n",
    "    \n",
    "    return filtered_texts, eliminated_count\n",
    "\n",
    "def preprocess_pipeline(data, bad_words) -> 'list':\n",
    "    \"\"\"\n",
    "    Preprocess the input text data by cleaning and tokenizing sentences.\n",
    "    \n",
    "    Args:\n",
    "        data (str): The input text data to preprocess.\n",
    "        bad_words (list): A list of bad words to filter out from the sentences.\n",
    "    \n",
    "    Returns:\n",
    "        list: A list of cleaned and tokenized sentences.\n",
    "    \"\"\"\n",
    "    sentences = data.split('\\n')\n",
    "    \n",
    "    for i in range(len(sentences)):\n",
    "        sentences[i] = remove_emojis_and_special_characters(sentences[i])\n",
    "    \n",
    "    sentences = [s.strip() for s in sentences]\n",
    "    \n",
    "    sentences = [s for s in sentences if len(s) > 0]\n",
    "    \n",
    "    cleaned_sentences, _ = remove_sentence_bad_words(sentences, bad_words)\n",
    "    \n",
    "    tokenized = [sentence.lower() for sentence in cleaned_sentences]\n",
    "    \n",
    "    return tokenized\n",
    "# Tokenize sentences\n",
    "tokenized_sentences = preprocess_pipeline(data)"
   ]
  },
  {
   "cell_type": "code",
   "execution_count": 70,
   "metadata": {},
   "outputs": [
    {
     "data": {
      "text/plain": [
       "['my comment will be buried but what he heck',\n",
       " 'i was probably 8 or 9 at the time trampolines were the best shit in the world one day doing flips i lost my sense of reality or something and went head first strait into the ground with my eyes squeezing tight knowing my fate is at handi open my eyes and my head is inches above the ground and im dangling there my legs caught the space between the springs luckily and i knew i had nothing to do with it i wasnt trying to save myself but i believe god was watchin out for me thanks jesus i love you reddit dont downvote me lol',\n",
       " 'tldr flying spaghetti monster lassowed me inches from certain death',\n",
       " 'in the seventh grade i played lacrosse in my citys league at practice one day we were doing one on ones and it came to be my turn to be the defender i took my place between the attacker and the goal and squared up as he ran toward me he began to dodge to my right and so i started turning to follow my right leg and rest of my body kept with the turn but my left leg had other plans i simply did not move it just kept it where it was haha as i turned my mcl snapped and i collapsed continued to practice on my nonfunctioning leg and finally went to the doc after two days after no improvement',\n",
       " 'tldr tried to turn left leg said no mcl snapped like a taut rubber band',\n",
       " 'edit apparently i misread the question so enjoy my story of food i enjoyed as a child but hate now',\n",
       " 'when i was about 8 my mother who normally cooked dinner went on a trip to new york for a week i think my older sister was at winter camp that week as well',\n",
       " 'so it was just me and the old man he was never a great cook and was only good at making breakfasts',\n",
       " 'i have a theory all dads are good at breakfasts',\n",
       " 'this was before everyone had cell phones and he couldnt reach my mom for help']"
      ]
     },
     "execution_count": 70,
     "metadata": {},
     "output_type": "execute_result"
    }
   ],
   "source": [
    "tokenized_sentences[:10]"
   ]
  },
  {
   "cell_type": "markdown",
   "metadata": {},
   "source": [
    "THe sentences are really long and people are not really using \".\" so I will seperate the text based on fixed size sentences to increase my learning samples."
   ]
  },
  {
   "cell_type": "code",
   "execution_count": 71,
   "metadata": {},
   "outputs": [],
   "source": [
    "def split_sentences_into_chunks(sentences, chunk_size=10):\n",
    "    \"\"\"\n",
    "    Splits each sentence in the input list into smaller chunks of a fixed size.\n",
    "\n",
    "    Args:\n",
    "        sentences (list of str): A list containing sentences as strings.\n",
    "        chunk_size (int): The fixed length of the word chunks (default is 7).\n",
    "\n",
    "    Returns:\n",
    "        list: A list of word chunks as strings, where each chunk contains chunk_size words.\n",
    "    \"\"\"\n",
    "    chunks = []\n",
    "    for sentence in sentences:\n",
    "        # Tokenize the sentence into words\n",
    "        words = sentence.split()  # Splits the sentence into words\n",
    "        # Iterate over the words in steps of chunk_size\n",
    "        for i in range(0, len(words), chunk_size):\n",
    "            chunk = words[i:i + chunk_size]  # Get the chunk of size chunk_size\n",
    "            if len(chunk) == chunk_size:  # Only append full chunks\n",
    "                chunks.append(' '.join(chunk))  # Join the chunk into a string and append it to the list\n",
    "    return chunks\n",
    "tokenized_sentences = split_sentences_into_chunks(tokenized_sentences)\n"
   ]
  },
  {
   "cell_type": "code",
   "execution_count": 72,
   "metadata": {},
   "outputs": [
    {
     "data": {
      "text/plain": [
       "['i was probably 8 or 9 at the time trampolines',\n",
       " 'were the best shit in the world one day doing',\n",
       " 'flips i lost my sense of reality or something and',\n",
       " 'went head first strait into the ground with my eyes',\n",
       " 'squeezing tight knowing my fate is at handi open my',\n",
       " 'eyes and my head is inches above the ground and',\n",
       " 'im dangling there my legs caught the space between the',\n",
       " 'springs luckily and i knew i had nothing to do',\n",
       " 'with it i wasnt trying to save myself but i',\n",
       " 'believe god was watchin out for me thanks jesus i']"
      ]
     },
     "execution_count": 72,
     "metadata": {},
     "output_type": "execute_result"
    }
   ],
   "source": [
    "tokenized_sentences[:10]"
   ]
  },
  {
   "cell_type": "markdown",
   "metadata": {},
   "source": [
    "\n",
    "We use out-of-vocabulary (OOV) tokens to help models handle unseen or rare words, improving robustness and generalization. They prevent errors when unknown words appear, allowing the model to process them effectively, which is essential in NLP tasks where the vocabulary can't cover all possible words.\n",
    "\n",
    "The bad words used during promt will be treated as OOV"
   ]
  },
  {
   "cell_type": "code",
   "execution_count": 73,
   "metadata": {},
   "outputs": [],
   "source": [
    "# Tokenize words\n",
    "tokenizer = Tokenizer(oov_token='<oov>')\n",
    "tokenizer.fit_on_texts(tokenized_sentences)\n",
    "total_words = len(tokenizer.word_index) + 1\n"
   ]
  },
  {
   "cell_type": "markdown",
   "metadata": {},
   "source": [
    "Saving the tokenizer is important because it keeps track of the mapping between words and their corresponding indices. During inference or deployment, we need the exact same tokenizer used during training to ensure consistency when converting text into sequences of numbers."
   ]
  },
  {
   "cell_type": "code",
   "execution_count": 74,
   "metadata": {},
   "outputs": [],
   "source": [
    "# with open('tokenizer.p', 'wb') as handle:\n",
    "#     pickle.dump(tokenizer, handle, protocol=pickle.HIGHEST_PROTOCOL)\n",
    "import io\n",
    "import json\n",
    "tokenizer_json = tokenizer.to_json()\n",
    "with io.open('tokenizer.json', 'w', encoding='utf-8') as f:\n",
    "    f.write(json.dumps(tokenizer_json, ensure_ascii=False))"
   ]
  },
  {
   "cell_type": "markdown",
   "metadata": {},
   "source": [
    "We create sequences of tokens (words represented as numbers) that can be used to train a model. These sequences are n-grams, where each sequence is a progressively longer fragment of the original sentence. \n",
    "\n",
    "The generated sequences will be used for tasks such as language modeling or next-word prediction."
   ]
  },
  {
   "cell_type": "code",
   "execution_count": 75,
   "metadata": {},
   "outputs": [],
   "source": [
    "\n",
    "input_sequences = []\n",
    "for line in tokenized_sentences:\n",
    "    token_list = tokenizer.texts_to_sequences([line])[0]\n",
    "    for i in range(1, len(token_list)):\n",
    "        n_gram_sequence = token_list[:i + 1]\n",
    "        input_sequences.append(n_gram_sequence)\n",
    "\n"
   ]
  },
  {
   "cell_type": "code",
   "execution_count": null,
   "metadata": {},
   "outputs": [],
   "source": []
  },
  {
   "cell_type": "markdown",
   "metadata": {},
   "source": [
    "We proceed with Padding the previous sequences to ensure uniform input length, which allow us to process variable-length sequences using models like LSTMs.\n",
    "\n",
    "\n",
    "This technique allows us to handle various input text lengths without losing important context, helping with efficient batch processing and avoiding errors in training or inference."
   ]
  },
  {
   "cell_type": "code",
   "execution_count": 76,
   "metadata": {},
   "outputs": [],
   "source": [
    "# Pad sequences\n",
    "max_sequence_len = max([len(x) for x in input_sequences])\n",
    "input_sequences = np.array(pad_sequences(input_sequences, maxlen=max_sequence_len, padding='pre'))"
   ]
  },
  {
   "cell_type": "markdown",
   "metadata": {},
   "source": [
    "We splits input_sequences into X (input data) by removing the last word from each sequence, and labels (target data) as the last word of each sequence. \n",
    "\n",
    "We then converts labels into a one-hot encoded format (ys), representing the target word as a vector of length total_words for use in training. In this way, the model learns to predict the next word in a sentence based on the previous words, which is the core task in sentence autocompletion. The task of predicting several words, is a multi-step prediction step. Indeed, the model generates one word at a time based on the input sequence, then uses each predicted word as part of the input to predict the next word in a sequential manner until the desired number of words is completed. \n",
    "\n",
    "we could formulate the problem as a Sequence Prediction (Seq2Seq task) task where the model takes an input sequence and predicts an entire fixed-length output sequence at once. "
   ]
  },
  {
   "cell_type": "code",
   "execution_count": null,
   "metadata": {},
   "outputs": [],
   "source": []
  },
  {
   "cell_type": "code",
   "execution_count": 77,
   "metadata": {},
   "outputs": [],
   "source": [
    "# Creates labels with input sequences\n",
    "X,labels = input_sequences[:,:-1],input_sequences[:,-1]"
   ]
  },
  {
   "cell_type": "code",
   "execution_count": 78,
   "metadata": {},
   "outputs": [
    {
     "data": {
      "text/plain": [
       "array([[    0,     0,     0, ...,     0,     0,     6],\n",
       "       [    0,     0,     0, ...,     0,     6,    13],\n",
       "       [    0,     0,     0, ...,     6,    13,   174],\n",
       "       ...,\n",
       "       [    0,     0,   279, ...,    51,    10,     5],\n",
       "       [    0,   279,     3, ...,    10,     5, 13863],\n",
       "       [  279,     3,  1136, ...,     5, 13863,   246]], dtype=int32)"
      ]
     },
     "execution_count": 78,
     "metadata": {},
     "output_type": "execute_result"
    }
   ],
   "source": [
    "X"
   ]
  },
  {
   "cell_type": "code",
   "execution_count": 79,
   "metadata": {
    "execution": {
     "iopub.execute_input": "2024-04-11T05:32:13.168190Z",
     "iopub.status.busy": "2024-04-11T05:32:13.167751Z",
     "iopub.status.idle": "2024-04-11T05:32:20.041506Z",
     "shell.execute_reply": "2024-04-11T05:32:20.040383Z",
     "shell.execute_reply.started": "2024-04-11T05:32:13.168137Z"
    }
   },
   "outputs": [],
   "source": [
    "# Split data into training, validation, and test sets\n",
    "\n",
    "X_train_temp, X_val_test, y_train_temp, y_val_test = train_test_split(X, labels, test_size=0.3, random_state=42)\n",
    "X_val, X_test, y_val, y_test = train_test_split(X_val_test, y_val_test, test_size=0.5, random_state=42)"
   ]
  },
  {
   "cell_type": "code",
   "execution_count": 80,
   "metadata": {},
   "outputs": [
    {
     "data": {
      "text/plain": [
       "(94500, 9)"
      ]
     },
     "execution_count": 80,
     "metadata": {},
     "output_type": "execute_result"
    }
   ],
   "source": [
    "X_train_temp.shape"
   ]
  },
  {
   "cell_type": "code",
   "execution_count": null,
   "metadata": {},
   "outputs": [],
   "source": []
  },
  {
   "cell_type": "code",
   "execution_count": null,
   "metadata": {},
   "outputs": [],
   "source": []
  },
  {
   "cell_type": "markdown",
   "metadata": {},
   "source": [
    "I've been trying to improve the model's performance, but it continues to overfit the data. The LSTM keeps generating almost identical words with minor changes, which I notice during testing. Additionally, the validation accuracy gets stuck at a single value for several epochs.\n",
    "\n",
    "Given the time constraints, I'm couldn't switch to a transformer-based solution or performing zero-shot prompting GPT2 or something similar. In this situation, I believe we need a model with greater capacity to understand context, something that LSTM struggles with."
   ]
  },
  {
   "cell_type": "markdown",
   "metadata": {},
   "source": [
    "# Train LSTM Model"
   ]
  },
  {
   "cell_type": "code",
   "execution_count": 86,
   "metadata": {
    "execution": {
     "iopub.execute_input": "2024-04-11T06:50:19.346868Z",
     "iopub.status.busy": "2024-04-11T06:50:19.345839Z",
     "iopub.status.idle": "2024-04-11T07:17:23.071736Z",
     "shell.execute_reply": "2024-04-11T07:17:23.070573Z",
     "shell.execute_reply.started": "2024-04-11T06:50:19.346830Z"
    }
   },
   "outputs": [
    {
     "name": "stdout",
     "output_type": "stream",
     "text": [
      "Model: \"sequential_11\"\n",
      "_________________________________________________________________\n",
      " Layer (type)                Output Shape              Param #   \n",
      "=================================================================\n",
      " embedding_11 (Embedding)    (None, 9, 100)            1386400   \n",
      "                                                                 \n",
      " bidirectional_9 (Bidirectio  (None, 9, 256)           234496    \n",
      " nal)                                                            \n",
      "                                                                 \n",
      " dropout_20 (Dropout)        (None, 9, 256)            0         \n",
      "                                                                 \n",
      " lstm_21 (LSTM)              (None, 128)               197120    \n",
      "                                                                 \n",
      " dropout_21 (Dropout)        (None, 128)               0         \n",
      "                                                                 \n",
      " dense_11 (Dense)            (None, 13864)             1788456   \n",
      "                                                                 \n",
      "=================================================================\n",
      "Total params: 3,606,472\n",
      "Trainable params: 3,606,472\n",
      "Non-trainable params: 0\n",
      "_________________________________________________________________\n",
      "Epoch 1/50\n",
      "2947/2954 [============================>.] - ETA: 0s - loss: 7.0320 - accuracy: 0.0449WARNING:tensorflow:AutoGraph could not transform <function Model.make_test_function.<locals>.test_function at 0x733ee0759000> and will run it as-is.\n",
      "Please report this to the TensorFlow team. When filing the bug, set the verbosity to 10 (on Linux, `export AUTOGRAPH_VERBOSITY=10`) and attach the full output.\n",
      "Cause: closure mismatch, requested ('self', 'step_function'), but source function had ()\n",
      "To silence this warning, decorate the function with @tf.autograph.experimental.do_not_convert\n"
     ]
    },
    {
     "name": "stderr",
     "output_type": "stream",
     "text": [
      "WARNING:tensorflow:AutoGraph could not transform <function Model.make_test_function.<locals>.test_function at 0x733ee0759000> and will run it as-is.\n",
      "Please report this to the TensorFlow team. When filing the bug, set the verbosity to 10 (on Linux, `export AUTOGRAPH_VERBOSITY=10`) and attach the full output.\n",
      "Cause: closure mismatch, requested ('self', 'step_function'), but source function had ()\n",
      "To silence this warning, decorate the function with @tf.autograph.experimental.do_not_convert\n"
     ]
    },
    {
     "name": "stdout",
     "output_type": "stream",
     "text": [
      "WARNING: AutoGraph could not transform <function Model.make_test_function.<locals>.test_function at 0x733ee0759000> and will run it as-is.\n",
      "Please report this to the TensorFlow team. When filing the bug, set the verbosity to 10 (on Linux, `export AUTOGRAPH_VERBOSITY=10`) and attach the full output.\n",
      "Cause: closure mismatch, requested ('self', 'step_function'), but source function had ()\n",
      "To silence this warning, decorate the function with @tf.autograph.experimental.do_not_convert\n",
      "2954/2954 [==============================] - 18s 5ms/step - loss: 7.0317 - accuracy: 0.0449 - val_loss: 6.8559 - val_accuracy: 0.0476\n",
      "Epoch 2/50\n",
      "2954/2954 [==============================] - 15s 5ms/step - loss: 6.6928 - accuracy: 0.0518 - val_loss: 6.8043 - val_accuracy: 0.0537\n",
      "Epoch 3/50\n",
      "2954/2954 [==============================] - 15s 5ms/step - loss: 6.5129 - accuracy: 0.0646 - val_loss: 6.7633 - val_accuracy: 0.0681\n",
      "Epoch 4/50\n",
      "2954/2954 [==============================] - 14s 5ms/step - loss: 6.3666 - accuracy: 0.0799 - val_loss: 6.7426 - val_accuracy: 0.0843\n",
      "Epoch 5/50\n",
      "2954/2954 [==============================] - 15s 5ms/step - loss: 6.2408 - accuracy: 0.0943 - val_loss: 6.7351 - val_accuracy: 0.0895\n",
      "Epoch 6/50\n",
      "2954/2954 [==============================] - 15s 5ms/step - loss: 6.1495 - accuracy: 0.1016 - val_loss: 6.7452 - val_accuracy: 0.0920\n",
      "Epoch 7/50\n",
      "2954/2954 [==============================] - 15s 5ms/step - loss: 6.0739 - accuracy: 0.1076 - val_loss: 6.7581 - val_accuracy: 0.0951\n",
      "Epoch 8/50\n",
      "2954/2954 [==============================] - 15s 5ms/step - loss: 6.0133 - accuracy: 0.1104 - val_loss: 6.8103 - val_accuracy: 0.0922\n",
      "Epoch 9/50\n",
      "2954/2954 [==============================] - 15s 5ms/step - loss: 5.9596 - accuracy: 0.1151 - val_loss: 6.7698 - val_accuracy: 0.0979\n",
      "Epoch 10/50\n",
      "2954/2954 [==============================] - 16s 5ms/step - loss: 5.9067 - accuracy: 0.1181 - val_loss: 6.8047 - val_accuracy: 0.0983\n",
      "Epoch 11/50\n",
      "2954/2954 [==============================] - 16s 5ms/step - loss: 5.8579 - accuracy: 0.1211 - val_loss: 6.7907 - val_accuracy: 0.1003\n",
      "Epoch 12/50\n",
      "2954/2954 [==============================] - 16s 5ms/step - loss: 5.8038 - accuracy: 0.1230 - val_loss: 6.7878 - val_accuracy: 0.1019\n",
      "Epoch 13/50\n",
      "2954/2954 [==============================] - 16s 5ms/step - loss: 5.7493 - accuracy: 0.1278 - val_loss: 6.8272 - val_accuracy: 0.1022\n",
      "Epoch 14/50\n",
      "2954/2954 [==============================] - 16s 5ms/step - loss: 5.7029 - accuracy: 0.1286 - val_loss: 6.8455 - val_accuracy: 0.1034\n",
      "Epoch 15/50\n",
      "2954/2954 [==============================] - 16s 5ms/step - loss: 5.6536 - accuracy: 0.1325 - val_loss: 6.8465 - val_accuracy: 0.1038\n",
      "Epoch 16/50\n",
      "2954/2954 [==============================] - 15s 5ms/step - loss: 5.6035 - accuracy: 0.1351 - val_loss: 6.8919 - val_accuracy: 0.1025\n",
      "Epoch 17/50\n",
      "2954/2954 [==============================] - 16s 5ms/step - loss: 5.5591 - accuracy: 0.1377 - val_loss: 6.9018 - val_accuracy: 0.1008\n",
      "Epoch 18/50\n",
      "2954/2954 [==============================] - 15s 5ms/step - loss: 5.5151 - accuracy: 0.1403 - val_loss: 6.9106 - val_accuracy: 0.1037\n",
      "Epoch 19/50\n",
      "2954/2954 [==============================] - 15s 5ms/step - loss: 5.4689 - accuracy: 0.1434 - val_loss: 6.9608 - val_accuracy: 0.1027\n",
      "Epoch 20/50\n",
      "2954/2954 [==============================] - 15s 5ms/step - loss: 5.4226 - accuracy: 0.1454 - val_loss: 6.9972 - val_accuracy: 0.1059\n",
      "Epoch 21/50\n",
      "2954/2954 [==============================] - 15s 5ms/step - loss: 5.3788 - accuracy: 0.1482 - val_loss: 7.0116 - val_accuracy: 0.1051\n",
      "Epoch 22/50\n",
      "2954/2954 [==============================] - 16s 5ms/step - loss: 5.3333 - accuracy: 0.1514 - val_loss: 7.0397 - val_accuracy: 0.1046\n",
      "Epoch 23/50\n",
      "2954/2954 [==============================] - 15s 5ms/step - loss: 5.2856 - accuracy: 0.1558 - val_loss: 7.0910 - val_accuracy: 0.1026\n",
      "Epoch 24/50\n",
      "2954/2954 [==============================] - 14s 5ms/step - loss: 5.2475 - accuracy: 0.1562 - val_loss: 7.1638 - val_accuracy: 0.1025\n",
      "Epoch 25/50\n",
      "2954/2954 [==============================] - 15s 5ms/step - loss: 5.2000 - accuracy: 0.1605 - val_loss: 7.1296 - val_accuracy: 0.1041\n",
      "Epoch 26/50\n",
      "2954/2954 [==============================] - 15s 5ms/step - loss: 5.1562 - accuracy: 0.1637 - val_loss: 7.1995 - val_accuracy: 0.1022\n",
      "Epoch 27/50\n",
      "2954/2954 [==============================] - 15s 5ms/step - loss: 5.1188 - accuracy: 0.1650 - val_loss: 7.2012 - val_accuracy: 0.1004\n",
      "Epoch 28/50\n",
      "2954/2954 [==============================] - 16s 5ms/step - loss: 5.0751 - accuracy: 0.1691 - val_loss: 7.2462 - val_accuracy: 0.1020\n",
      "Epoch 29/50\n",
      "2954/2954 [==============================] - 15s 5ms/step - loss: 5.0336 - accuracy: 0.1709 - val_loss: 7.2994 - val_accuracy: 0.0997\n",
      "Epoch 30/50\n",
      "2954/2954 [==============================] - 15s 5ms/step - loss: 4.9891 - accuracy: 0.1734 - val_loss: 7.3495 - val_accuracy: 0.0999\n",
      "Epoch 31/50\n",
      "2954/2954 [==============================] - 16s 5ms/step - loss: 4.9519 - accuracy: 0.1755 - val_loss: 7.3479 - val_accuracy: 0.1003\n",
      "Epoch 32/50\n",
      "2954/2954 [==============================] - 21s 7ms/step - loss: 4.9137 - accuracy: 0.1793 - val_loss: 7.4219 - val_accuracy: 0.0981\n",
      "Epoch 33/50\n",
      "2954/2954 [==============================] - 22s 8ms/step - loss: 4.8793 - accuracy: 0.1822 - val_loss: 7.4021 - val_accuracy: 0.1000\n",
      "Epoch 34/50\n",
      "2954/2954 [==============================] - 21s 7ms/step - loss: 4.8376 - accuracy: 0.1844 - val_loss: 7.4110 - val_accuracy: 0.0988\n",
      "Epoch 35/50\n",
      "2954/2954 [==============================] - 16s 5ms/step - loss: 4.8035 - accuracy: 0.1888 - val_loss: 7.4951 - val_accuracy: 0.0997\n",
      "Epoch 36/50\n",
      "2954/2954 [==============================] - 20s 7ms/step - loss: 4.7695 - accuracy: 0.1904 - val_loss: 7.5298 - val_accuracy: 0.0984\n",
      "Epoch 37/50\n",
      "2954/2954 [==============================] - 23s 8ms/step - loss: 4.7448 - accuracy: 0.1934 - val_loss: 7.6164 - val_accuracy: 0.0977\n",
      "Epoch 38/50\n",
      "2954/2954 [==============================] - 22s 8ms/step - loss: 4.7047 - accuracy: 0.1961 - val_loss: 7.6018 - val_accuracy: 0.0968\n",
      "Epoch 39/50\n",
      "2954/2954 [==============================] - 19s 6ms/step - loss: 4.6730 - accuracy: 0.1989 - val_loss: 7.6205 - val_accuracy: 0.0987\n",
      "Epoch 40/50\n",
      "2954/2954 [==============================] - 16s 5ms/step - loss: 4.6482 - accuracy: 0.2005 - val_loss: 7.6711 - val_accuracy: 0.0959\n",
      "Epoch 41/50\n",
      "2954/2954 [==============================] - 15s 5ms/step - loss: 4.6164 - accuracy: 0.2049 - val_loss: 7.6353 - val_accuracy: 0.0973\n",
      "Epoch 42/50\n",
      "2954/2954 [==============================] - 16s 5ms/step - loss: 4.5851 - accuracy: 0.2071 - val_loss: 7.6743 - val_accuracy: 0.0959\n",
      "Epoch 43/50\n",
      "2954/2954 [==============================] - 16s 5ms/step - loss: 4.5608 - accuracy: 0.2080 - val_loss: 7.7725 - val_accuracy: 0.0967\n",
      "Epoch 44/50\n",
      "2954/2954 [==============================] - 16s 6ms/step - loss: 4.5312 - accuracy: 0.2120 - val_loss: 7.7429 - val_accuracy: 0.0976\n",
      "Epoch 45/50\n",
      "2954/2954 [==============================] - 15s 5ms/step - loss: 4.4999 - accuracy: 0.2154 - val_loss: 7.7330 - val_accuracy: 0.0949\n",
      "Epoch 46/50\n",
      "2954/2954 [==============================] - 16s 5ms/step - loss: 4.4749 - accuracy: 0.2165 - val_loss: 7.7945 - val_accuracy: 0.0957\n",
      "Epoch 47/50\n",
      "2954/2954 [==============================] - 16s 5ms/step - loss: 4.4519 - accuracy: 0.2198 - val_loss: 7.8150 - val_accuracy: 0.0960\n",
      "Epoch 48/50\n",
      "2954/2954 [==============================] - 16s 6ms/step - loss: 4.4282 - accuracy: 0.2225 - val_loss: 7.8676 - val_accuracy: 0.0942\n",
      "Epoch 49/50\n",
      "2954/2954 [==============================] - 15s 5ms/step - loss: 4.3960 - accuracy: 0.2241 - val_loss: 7.8736 - val_accuracy: 0.0953\n",
      "Epoch 50/50\n",
      "2954/2954 [==============================] - 16s 5ms/step - loss: 4.3794 - accuracy: 0.2277 - val_loss: 7.9344 - val_accuracy: 0.0943\n"
     ]
    }
   ],
   "source": [
    "import tensorflow as tf\n",
    "from keras.models import Sequential\n",
    "from keras.layers import Embedding, LSTM, Bidirectional, Dropout, Dense\n",
    "from keras.optimizers import Adam\n",
    "from keras.regularizers import l2\n",
    "\n",
    "\n",
    "# Define the model\n",
    "model = Sequential()\n",
    "\n",
    "model.add(Embedding(total_words, 100, input_length=max_sequence_len-1))\n",
    "\n",
    "model.add(Bidirectional(LSTM(128, return_sequences=True, kernel_regularizer=l2(0.001))))\n",
    "model.add(Dropout(0.4))\n",
    "\n",
    "model.add(LSTM(128, kernel_regularizer=l2(0.0001)))\n",
    "model.add(Dropout(0.3))\n",
    "\n",
    "model.add(Dense(total_words, activation='softmax'))\n",
    "\n",
    "\n",
    "learning_rate = 0.001\n",
    "\n",
    "optimizer = Adam(learning_rate=learning_rate)\n",
    "\n",
    "# Compile the model\n",
    "model.compile(loss='sparse_categorical_crossentropy', optimizer=optimizer, metrics=['accuracy'])\n",
    "model.summary()\n",
    "# Train the model\n",
    "history = model.fit(X_train_temp, y_train_temp, epochs=50, validation_data=(X_val, y_val), verbose=1)\n",
    "\n"
   ]
  },
  {
   "cell_type": "code",
   "execution_count": 87,
   "metadata": {},
   "outputs": [
    {
     "data": {
      "image/png": "[encoded data removed]",
      "text/plain": [
       "<Figure size 640x480 with 1 Axes>"
      ]
     },
     "metadata": {},
     "output_type": "display_data"
    },
    {
     "data": {
      "image/png": "[encoded data removed]",
      "text/plain": [
       "<Figure size 640x480 with 1 Axes>"
      ]
     },
     "metadata": {},
     "output_type": "display_data"
    }
   ],
   "source": [
    "\n",
    "import matplotlib.pyplot as plt\n",
    "\n",
    "\n",
    "plt.plot(history.history['loss'], label='Training Loss', color='blue', linestyle='--', linewidth=2)\n",
    "plt.plot(history.history['val_loss'], label='Validation Loss', color='orange', linestyle='-', linewidth=2)\n",
    "plt.title('Training vs Validation Loss Over Epochs', fontsize=16, fontweight='bold')\n",
    "plt.xlabel('Number of Epochs', fontsize=12)\n",
    "plt.ylabel('Loss Value', fontsize=12)\n",
    "plt.legend(loc='upper right', fontsize=10)\n",
    "plt.grid(True)  \n",
    "plt.show()\n",
    "\n",
    "\n",
    "plt.plot(history.history['accuracy'], label='Training Accuracy', color='green', linestyle='--', linewidth=2)\n",
    "plt.plot(history.history['val_accuracy'], label='Validation Accuracy', color='red', linestyle='-', linewidth=2)\n",
    "plt.title('Training vs Validation Accuracy Over Epochs', fontsize=16, fontweight='bold')\n",
    "plt.xlabel('Number of Epochs', fontsize=12)\n",
    "plt.ylabel('Accuracy Value', fontsize=12)\n",
    "plt.legend(loc='lower right', fontsize=10)\n",
    "plt.grid(True) \n",
    "plt.show()\n"
   ]
  },
  {
   "cell_type": "markdown",
   "metadata": {},
   "source": [
    "# Save Models (Weights and biases)"
   ]
  },
  {
   "cell_type": "code",
   "execution_count": 88,
   "metadata": {
    "execution": {
     "iopub.execute_input": "2024-04-11T07:17:23.074643Z",
     "iopub.status.busy": "2024-04-11T07:17:23.074319Z",
     "iopub.status.idle": "2024-04-11T07:17:23.216893Z",
     "shell.execute_reply": "2024-04-11T07:17:23.215911Z",
     "shell.execute_reply.started": "2024-04-11T07:17:23.074617Z"
    }
   },
   "outputs": [],
   "source": [
    "# Save model architecture as JSON file\n",
    "from tensorflow.keras.models import model_from_json\n",
    "\n",
    "model_json = model.to_json()\n",
    "with open(\"lstm_model.json\", \"w\") as json_file:\n",
    "    json_file.write(model_json)"
   ]
  },
  {
   "cell_type": "code",
   "execution_count": null,
   "metadata": {},
   "outputs": [
    {
     "name": "stdout",
     "output_type": "stream",
     "text": [
      "Model architecture loaded successfully from JSON file.\n"
     ]
    }
   ],
   "source": [
    "# Load model architecture from JSON file\n",
    "from tensorflow.keras.models import model_from_json\n",
    "\n",
    "with open(\"lstm_model.json\", \"r\") as json_file:\n",
    "    loaded_model_json = json_file.read()\n",
    "\n",
    "# Create model from loaded architecture\n",
    "loaded_model = model_from_json(loaded_model_json)\n",
    "\n",
    "print(\"Model architecture loaded successfully from JSON file.\")"
   ]
  },
  {
   "cell_type": "code",
   "execution_count": null,
   "metadata": {
    "execution": {
     "iopub.execute_input": "2024-04-11T06:04:13.104775Z",
     "iopub.status.busy": "2024-04-11T06:04:13.104349Z",
     "iopub.status.idle": "2024-04-11T06:04:13.406339Z",
     "shell.execute_reply": "2024-04-11T06:04:13.404737Z",
     "shell.execute_reply.started": "2024-04-11T06:04:13.104743Z"
    }
   },
   "outputs": [],
   "source": [
    "import matplotlib.pyplot as plt\n",
    "import seaborn as sns\n",
    "from sklearn.metrics import confusion_matrix\n"
   ]
  },
  {
   "cell_type": "code",
   "execution_count": null,
   "metadata": {
    "execution": {
     "iopub.execute_input": "2024-04-11T06:04:14.332289Z",
     "iopub.status.busy": "2024-04-11T06:04:14.331600Z",
     "iopub.status.idle": "2024-04-11T06:04:15.028083Z",
     "shell.execute_reply": "2024-04-11T06:04:15.026976Z",
     "shell.execute_reply.started": "2024-04-11T06:04:14.332254Z"
    }
   },
   "outputs": [],
   "source": [
    "\n"
   ]
  },
  {
   "cell_type": "markdown",
   "metadata": {},
   "source": [
    "# Inferences"
   ]
  },
  {
   "cell_type": "code",
   "execution_count": null,
   "metadata": {
    "execution": {
     "iopub.execute_input": "2024-04-11T06:15:08.096062Z",
     "iopub.status.busy": "2024-04-11T06:15:08.095068Z",
     "iopub.status.idle": "2024-04-11T06:15:08.103261Z",
     "shell.execute_reply": "2024-04-11T06:15:08.102149Z",
     "shell.execute_reply.started": "2024-04-11T06:15:08.096025Z"
    }
   },
   "outputs": [],
   "source": [
    "def predict_top_five_words(model, tokenizer, seed_text):\n",
    "    token_list = tokenizer.texts_to_sequences([seed_text])[0]\n",
    "    token_list = pad_sequences([token_list], maxlen=max_sequence_len-1, padding='pre')\n",
    "    predicted = model.predict(token_list, verbose=0)\n",
    "    top_five_indexes = np.argsort(predicted[0])[::-1][:5]\n",
    "    top_five_words = []\n",
    "    for index in top_five_indexes:\n",
    "        for word, idx in tokenizer.word_index.items():\n",
    "            if idx == index:\n",
    "                top_five_words.append(word)\n",
    "                break\n",
    "    return top_five_words\n"
   ]
  },
  {
   "cell_type": "code",
   "execution_count": null,
   "metadata": {
    "execution": {
     "iopub.execute_input": "2024-04-11T07:21:37.822914Z",
     "iopub.status.busy": "2024-04-11T07:21:37.822420Z",
     "iopub.status.idle": "2024-04-11T07:21:38.082054Z",
     "shell.execute_reply": "2024-04-11T07:21:38.080961Z",
     "shell.execute_reply.started": "2024-04-11T07:21:37.822880Z"
    }
   },
   "outputs": [],
   "source": [
    "from IPython.display import HTML\n",
    "\n",
    "def predict_top_five_words(model, tokenizer, seed_text):\n",
    "    token_list = tokenizer.texts_to_sequences([seed_text])[0]\n",
    "    token_list = pad_sequences([token_list], maxlen=max_sequence_len-1, padding='pre')\n",
    "    predicted = model.predict(token_list, verbose=0)\n",
    "    top_five_indexes = np.argsort(predicted[0])[::-1][:5]\n",
    "    top_five_words = []\n",
    "    for index in top_five_indexes:\n",
    "        for word, idx in tokenizer.word_index.items():\n",
    "            if idx == index:\n",
    "                top_five_words.append(word)\n",
    "                break\n",
    "    return top_five_words\n",
    "\n",
    "def predict_and_display_top_five_words(seed_text, model, tokenizer):\n",
    "    top_five_words = predict_top_five_words(model, tokenizer, seed_text)\n",
    "    print(top_five_words)\n",
    "    return top_five_words\n",
    "\n",
    "\n"
   ]
  },
  {
   "cell_type": "code",
   "execution_count": null,
   "metadata": {
    "execution": {
     "iopub.execute_input": "2024-04-11T06:33:58.775637Z",
     "iopub.status.busy": "2024-04-11T06:33:58.775231Z",
     "iopub.status.idle": "2024-04-11T06:33:58.849540Z",
     "shell.execute_reply": "2024-04-11T06:33:58.848492Z",
     "shell.execute_reply.started": "2024-04-11T06:33:58.775606Z"
    }
   },
   "outputs": [
    {
     "name": "stdout",
     "output_type": "stream",
     "text": [
      "['his', 'un', 'producing', 'light', 'whats']\n"
     ]
    },
    {
     "data": {
      "text/html": [
       "\n",
       "    <script>\n",
       "        var newWindow = window.open(\"\", \"_blank\");\n",
       "        newWindow.document.write('<html><head><title>Top Five Words</title></head><body><h1>Sentence AutoCompletion App With Five Outputs</h1> <br> <hr> <ul><li>How are his</li><li>How are un</li><li>How are producing</li><li>How are light</li><li>How are whats</li></ul></body></html>');\n",
       "    </script>\n",
       "    "
      ],
      "text/plain": [
       "<IPython.core.display.HTML object>"
      ]
     },
     "execution_count": 81,
     "metadata": {},
     "output_type": "execute_result"
    }
   ],
   "source": [
    "# Test 3:\n",
    "seed_text = \"How are you\"\n",
    "predict_and_display_top_five_words(seed_text, loaded_model, tokenizer)"
   ]
  },
  {
   "cell_type": "code",
   "execution_count": null,
   "metadata": {},
   "outputs": [],
   "source": []
  }
 ],
 "metadata": {
  "kaggle": {
   "accelerator": "gpu",
   "dataSources": [
    {
     "datasetId": 4758440,
     "sourceId": 8065627,
     "sourceType": "datasetVersion"
    },
    {
     "datasetId": 4758543,
     "sourceId": 8065761,
     "sourceType": "datasetVersion"
    },
    {
     "datasetId": 4759977,
     "sourceId": 8067728,
     "sourceType": "datasetVersion"
    }
   ],
   "dockerImageVersionId": 30674,
   "isGpuEnabled": true,
   "isInternetEnabled": true,
   "language": "python",
   "sourceType": "notebook"
  },
  "kernelspec": {
   "display_name": "Python 3 (ipykernel)",
   "language": "python",
   "name": "python3"
  },
  "language_info": {
   "codemirror_mode": {
    "name": "ipython",
    "version": 3
   },
   "file_extension": ".py",
   "mimetype": "text/x-python",
   "name": "python",
   "nbconvert_exporter": "python",
   "pygments_lexer": "ipython3",
   "version": "3.10.15"
  }
 },
 "nbformat": 4,
 "nbformat_minor": 4
}
